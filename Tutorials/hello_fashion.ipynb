{
 "cells": [
  {
   "cell_type": "markdown",
   "metadata": {},
   "source": [
    "# Hello, Fashion!\n",
    "The follow up to MNIST digits: classifying images of clothing.\n",
    "\n",
    "Following this [Tensorflow tutorial](https://www.tensorflow.org/beta/tutorials/keras/basic_classification)."
   ]
  },
  {
   "cell_type": "markdown",
   "metadata": {},
   "source": [
    "## Importing Packages"
   ]
  },
  {
   "cell_type": "code",
   "execution_count": 1,
   "metadata": {},
   "outputs": [],
   "source": [
    "from __future__ import absolute_import, division, print_function, unicode_literals\n",
    "\n",
    "# Tensorflow and Keras\n",
    "import tensorflow as tf\n",
    "from tensorflow import keras\n",
    "\n",
    "# Helper libraries\n",
    "import numpy as np\n",
    "\n",
    "# Vizualization libraries\n",
    "import matplotlib.pyplot as plt\n",
    "import seaborn as sn    # Heatmap for confusion matrix"
   ]
  },
  {
   "cell_type": "markdown",
   "metadata": {},
   "source": [
    "## Importing Data"
   ]
  },
  {
   "cell_type": "code",
   "execution_count": 2,
   "metadata": {},
   "outputs": [],
   "source": [
    "fashion_mnist = keras.datasets.fashion_mnist"
   ]
  },
  {
   "cell_type": "markdown",
   "metadata": {},
   "source": [
    "### Load Training and Testing Sets"
   ]
  },
  {
   "cell_type": "code",
   "execution_count": 3,
   "metadata": {},
   "outputs": [],
   "source": [
    "(train_images, train_labels), (test_images, test_labels) = fashion_mnist.load_data()\n",
    "class_names = ['T-shirt/top', 'Trouser', 'Pullover', 'Dress', 'Coat', 'Sandal', 'Shirt', 'Sneaker', 'Bag', 'Ankle boot']"
   ]
  },
  {
   "cell_type": "markdown",
   "metadata": {},
   "source": [
    "### Explore the Data"
   ]
  },
  {
   "cell_type": "code",
   "execution_count": 4,
   "metadata": {},
   "outputs": [
    {
     "name": "stdout",
     "output_type": "stream",
     "text": [
      "(60000, 28, 28)\n",
      "0\n",
      "255\n"
     ]
    },
    {
     "data": {
      "image/png": "[encoded data removed]",
      "text/plain": [
       "<Figure size 432x288 with 1 Axes>"
      ]
     },
     "metadata": {
      "needs_background": "light"
     },
     "output_type": "display_data"
    },
    {
     "name": "stdout",
     "output_type": "stream",
     "text": [
      "Ankle boot\n"
     ]
    },
    {
     "data": {
      "image/png": "[encoded data removed]",
      "text/plain": [
       "<Figure size 432x288 with 1 Axes>"
      ]
     },
     "metadata": {
      "needs_background": "light"
     },
     "output_type": "display_data"
    },
    {
     "name": "stdout",
     "output_type": "stream",
     "text": [
      "(10000, 28, 28)\n",
      "0\n",
      "255\n"
     ]
    },
    {
     "data": {
      "image/png": "[encoded data removed]",
      "text/plain": [
       "<Figure size 432x288 with 1 Axes>"
      ]
     },
     "metadata": {
      "needs_background": "light"
     },
     "output_type": "display_data"
    },
    {
     "name": "stdout",
     "output_type": "stream",
     "text": [
      "Ankle boot\n"
     ]
    },
    {
     "data": {
      "image/png": "[encoded data removed]",
      "text/plain": [
       "<Figure size 432x288 with 1 Axes>"
      ]
     },
     "metadata": {
      "needs_background": "light"
     },
     "output_type": "display_data"
    }
   ],
   "source": [
    "print( train_images.shape )\n",
    "print( np.min( train_images ) )\n",
    "print( np.max( train_images ) )\n",
    "\n",
    "_ = plt.hist(train_images.ravel())\n",
    "plt.show()\n",
    "%matplotlib inline \n",
    "plt.imshow(train_images[0,:,:], interpolation='nearest')\n",
    "print( class_names[train_labels[0]] )\n",
    "plt.show()\n",
    "\n",
    "print( test_images.shape )\n",
    "print( np.min( test_images ) )\n",
    "print( np.max( test_images ) )\n",
    "\n",
    "_ = plt.hist(test_images.ravel())\n",
    "plt.show()\n",
    "%matplotlib inline \n",
    "plt.imshow(test_images[0,:,:], interpolation='nearest')\n",
    "print( class_names[test_labels[0]] )\n",
    "plt.show()"
   ]
  },
  {
   "cell_type": "markdown",
   "metadata": {},
   "source": [
    "### Prepare Data"
   ]
  },
  {
   "cell_type": "code",
   "execution_count": 5,
   "metadata": {},
   "outputs": [],
   "source": [
    "train_images = train_images / 255.0\n",
    "test_images = test_images / 255.0"
   ]
  },
  {
   "cell_type": "markdown",
   "metadata": {},
   "source": [
    "## Build Model"
   ]
  },
  {
   "cell_type": "code",
   "execution_count": 6,
   "metadata": {},
   "outputs": [],
   "source": [
    "model = keras.Sequential([\n",
    "            keras.layers.Flatten(input_shape=(28, 28)),    # Flatten input from 28x28 images to single column\n",
    "            keras.layers.Dense(128, activation='relu'),    # First hidden layer of 128 nodes\n",
    "            keras.layers.Dropout(0.2),                     # Dropout regularization\n",
    "            keras.layers.Dense(10, activation='softmax')]) # Output softmax layer"
   ]
  },
  {
   "cell_type": "markdown",
   "metadata": {},
   "source": [
    "### Select Loss Function and Optimizer"
   ]
  },
  {
   "cell_type": "code",
   "execution_count": 7,
   "metadata": {},
   "outputs": [],
   "source": [
    "model.compile(optimizer='adam',                          # Optimizer favored over standard gradient decent\n",
    "              loss='sparse_categorical_crossentropy',    # Standard loss for multiclass classification\n",
    "              metrics=['accuracy'])                      # Typical metric for classification performance"
   ]
  },
  {
   "cell_type": "markdown",
   "metadata": {},
   "source": [
    "## Train Model"
   ]
  },
  {
   "cell_type": "code",
   "execution_count": 8,
   "metadata": {},
   "outputs": [
    {
     "name": "stderr",
     "output_type": "stream",
     "text": [
      "WARNING: Logging before flag parsing goes to stderr.\n",
      "W0817 12:50:35.455702 4379272640 deprecation.py:323] From /Users/josh/anaconda3/lib/python3.7/site-packages/tensorflow/python/ops/math_grad.py:1250: add_dispatch_support.<locals>.wrapper (from tensorflow.python.ops.array_ops) is deprecated and will be removed in a future version.\n",
      "Instructions for updating:\n",
      "Use tf.where in 2.0, which has the same broadcast rule as np.where\n"
     ]
    },
    {
     "name": "stdout",
     "output_type": "stream",
     "text": [
      "Train on 60000 samples\n",
      "Epoch 1/10\n",
      "60000/60000 [==============================] - 3s 46us/sample - loss: 0.5293 - accuracy: 0.8137\n",
      "Epoch 2/10\n",
      "60000/60000 [==============================] - 3s 42us/sample - loss: 0.3999 - accuracy: 0.8543\n",
      "Epoch 3/10\n",
      "60000/60000 [==============================] - 2s 41us/sample - loss: 0.3672 - accuracy: 0.8655\n",
      "Epoch 4/10\n",
      "60000/60000 [==============================] - 2s 41us/sample - loss: 0.3475 - accuracy: 0.8733\n",
      "Epoch 5/10\n",
      "60000/60000 [==============================] - 3s 42us/sample - loss: 0.3294 - accuracy: 0.8788\n",
      "Epoch 6/10\n",
      "60000/60000 [==============================] - 2s 41us/sample - loss: 0.3178 - accuracy: 0.8827\n",
      "Epoch 7/10\n",
      "60000/60000 [==============================] - 2s 42us/sample - loss: 0.3062 - accuracy: 0.8865\n",
      "Epoch 8/10\n",
      "60000/60000 [==============================] - 3s 43us/sample - loss: 0.3004 - accuracy: 0.8878s - loss: 0.3001 - accura\n",
      "Epoch 9/10\n",
      "60000/60000 [==============================] - 3s 42us/sample - loss: 0.2902 - accuracy: 0.8927\n",
      "Epoch 10/10\n",
      "60000/60000 [==============================] - 2s 41us/sample - loss: 0.2841 - accuracy: 0.8940\n"
     ]
    },
    {
     "data": {
      "text/plain": [
       "<tensorflow.python.keras.callbacks.History at 0x1242d2668>"
      ]
     },
     "execution_count": 8,
     "metadata": {},
     "output_type": "execute_result"
    }
   ],
   "source": [
    "model.fit(train_images, train_labels, epochs=10)"
   ]
  },
  {
   "cell_type": "markdown",
   "metadata": {},
   "source": [
    "## Evaluate Model Performance on Test Set"
   ]
  },
  {
   "cell_type": "code",
   "execution_count": 9,
   "metadata": {},
   "outputs": [
    {
     "name": "stdout",
     "output_type": "stream",
     "text": [
      "10000/10000 [==============================] - 0s 27us/sample - loss: 0.3388 - accuracy: 0.8810\n"
     ]
    },
    {
     "data": {
      "text/plain": [
       "<matplotlib.axes._subplots.AxesSubplot at 0x1a2e9e94a8>"
      ]
     },
     "execution_count": 9,
     "metadata": {},
     "output_type": "execute_result"
    },
    {
     "data": {
      "image/png": "[encoded data removed]",
      "text/plain": [
       "<Figure size 432x288 with 2 Axes>"
      ]
     },
     "metadata": {
      "needs_background": "light"
     },
     "output_type": "display_data"
    }
   ],
   "source": [
    "model.evaluate(test_images, test_labels)\n",
    "confusion = tf.math.confusion_matrix( tf.argmax(input=model.predict(test_images), axis=1), test_labels )\n",
    "sn.heatmap( confusion )"
   ]
  }
 ],
 "metadata": {
  "kernelspec": {
   "display_name": "Python 3",
   "language": "python",
   "name": "python3"
  },
  "language_info": {
   "codemirror_mode": {
    "name": "ipython",
    "version": 3
   },
   "file_extension": ".py",
   "mimetype": "text/x-python",
   "name": "python",
   "nbconvert_exporter": "python",
   "pygments_lexer": "ipython3",
   "version": "3.7.3"
  }
 },
 "nbformat": 4,
 "nbformat_minor": 2
}
