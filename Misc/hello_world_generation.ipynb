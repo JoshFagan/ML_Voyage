{
 "cells": [
  {
   "cell_type": "markdown",
   "metadata": {
    "toc": true
   },
   "source": [
    "<h1>Table of Contents<span class=\"tocSkip\"></span></h1>\n",
    "<div class=\"toc\"><ul class=\"toc-item\"><li><span><a href=\"#Import-Packages\" data-toc-modified-id=\"Import-Packages-1\"><span class=\"toc-item-num\">1&nbsp;&nbsp;</span>Import Packages</a></span></li><li><span><a href=\"#Import-Data\" data-toc-modified-id=\"Import-Data-2\"><span class=\"toc-item-num\">2&nbsp;&nbsp;</span>Import Data</a></span><ul class=\"toc-item\"><li><span><a href=\"#Load-Training-and-Testing-Sets\" data-toc-modified-id=\"Load-Training-and-Testing-Sets-2.1\"><span class=\"toc-item-num\">2.1&nbsp;&nbsp;</span>Load Training and Testing Sets</a></span></li><li><span><a href=\"#Explore-the-Data\" data-toc-modified-id=\"Explore-the-Data-2.2\"><span class=\"toc-item-num\">2.2&nbsp;&nbsp;</span>Explore the Data</a></span></li><li><span><a href=\"#Process-the-Data\" data-toc-modified-id=\"Process-the-Data-2.3\"><span class=\"toc-item-num\">2.3&nbsp;&nbsp;</span>Process the Data</a></span></li></ul></li><li><span><a href=\"#Autoencoder\" data-toc-modified-id=\"Autoencoder-3\"><span class=\"toc-item-num\">3&nbsp;&nbsp;</span>Autoencoder</a></span><ul class=\"toc-item\"><li><span><a href=\"#Build-the-Model\" data-toc-modified-id=\"Build-the-Model-3.1\"><span class=\"toc-item-num\">3.1&nbsp;&nbsp;</span>Build the Model</a></span><ul class=\"toc-item\"><li><span><a href=\"#Select-Loss-Function-and-Optimizer\" data-toc-modified-id=\"Select-Loss-Function-and-Optimizer-3.1.1\"><span class=\"toc-item-num\">3.1.1&nbsp;&nbsp;</span>Select Loss Function and Optimizer</a></span></li></ul></li><li><span><a href=\"#Train-Model\" data-toc-modified-id=\"Train-Model-3.2\"><span class=\"toc-item-num\">3.2&nbsp;&nbsp;</span>Train Model</a></span></li><li><span><a href=\"#Evaluate-Model-Performance-on-Test-Set\" data-toc-modified-id=\"Evaluate-Model-Performance-on-Test-Set-3.3\"><span class=\"toc-item-num\">3.3&nbsp;&nbsp;</span>Evaluate Model Performance on Test Set</a></span></li></ul></li></ul></div>"
   ]
  },
  {
   "cell_type": "markdown",
   "metadata": {},
   "source": [
    "# Hello, World!\n",
    "Generating samples from MNIST with Autoencoders."
   ]
  },
  {
   "cell_type": "markdown",
   "metadata": {},
   "source": [
    "## Import Packages"
   ]
  },
  {
   "cell_type": "code",
   "execution_count": 39,
   "metadata": {},
   "outputs": [],
   "source": [
    "from __future__ import absolute_import, division, print_function, unicode_literals\n",
    "\n",
    "# Tensorflow and Keras\n",
    "import tensorflow as tf\n",
    "from tensorflow.keras.layers import Input, Dense, Conv2D, MaxPooling2D, UpSampling2D, Flatten\n",
    "from tensorflow.keras.models import Model\n",
    "from tensorflow.keras import backend as K\n",
    "from tensorflow.keras.utils import to_categorical # convert to one-hot-encoding\n",
    "\n",
    "\n",
    "# Helper libraries\n",
    "import numpy as np\n",
    "\n",
    "# Vizualization libraries\n",
    "import matplotlib.pyplot as plt\n",
    "import seaborn as sn    # Heatmap for confusion matrix"
   ]
  },
  {
   "cell_type": "markdown",
   "metadata": {},
   "source": [
    "## Import Data"
   ]
  },
  {
   "cell_type": "code",
   "execution_count": 29,
   "metadata": {},
   "outputs": [],
   "source": [
    "mnist = tf.keras.datasets.mnist"
   ]
  },
  {
   "cell_type": "markdown",
   "metadata": {},
   "source": [
    "### Load Training and Testing Sets"
   ]
  },
  {
   "cell_type": "code",
   "execution_count": 48,
   "metadata": {},
   "outputs": [],
   "source": [
    "(x_train, y_train), (x_test, y_test) = mnist.load_data()"
   ]
  },
  {
   "cell_type": "markdown",
   "metadata": {},
   "source": [
    "### Explore the Data"
   ]
  },
  {
   "cell_type": "code",
   "execution_count": 49,
   "metadata": {},
   "outputs": [
    {
     "name": "stdout",
     "output_type": "stream",
     "text": [
      "(60000, 28, 28)\n",
      "0\n",
      "255\n"
     ]
    },
    {
     "data": {
      "image/png": "[encoded data removed]",
      "text/plain": [
       "<Figure size 432x288 with 1 Axes>"
      ]
     },
     "metadata": {
      "needs_background": "light"
     },
     "output_type": "display_data"
    },
    {
     "name": "stdout",
     "output_type": "stream",
     "text": [
      "5\n"
     ]
    },
    {
     "data": {
      "image/png": "[encoded data removed]",
      "text/plain": [
       "<Figure size 432x288 with 1 Axes>"
      ]
     },
     "metadata": {
      "needs_background": "light"
     },
     "output_type": "display_data"
    },
    {
     "name": "stdout",
     "output_type": "stream",
     "text": [
      "(10000, 28, 28)\n",
      "0\n",
      "255\n"
     ]
    },
    {
     "data": {
      "image/png": "[encoded data removed]",
      "text/plain": [
       "<Figure size 432x288 with 1 Axes>"
      ]
     },
     "metadata": {
      "needs_background": "light"
     },
     "output_type": "display_data"
    },
    {
     "name": "stdout",
     "output_type": "stream",
     "text": [
      "7\n"
     ]
    },
    {
     "data": {
      "image/png": "[encoded data removed]",
      "text/plain": [
       "<Figure size 432x288 with 1 Axes>"
      ]
     },
     "metadata": {
      "needs_background": "light"
     },
     "output_type": "display_data"
    }
   ],
   "source": [
    "print( x_train.shape )\n",
    "print( np.min( x_train ) )\n",
    "print( np.max( x_train ) )\n",
    "\n",
    "_ = plt.hist(x_train.ravel())\n",
    "plt.show()\n",
    "%matplotlib inline \n",
    "plt.imshow(x_train[0,:,:], interpolation='nearest')\n",
    "print( y_train[0] )\n",
    "plt.show()\n",
    "\n",
    "print( x_test.shape )\n",
    "print( np.min( x_test ) )\n",
    "print( np.max( x_test ) )\n",
    "\n",
    "_ = plt.hist(x_test.ravel())\n",
    "plt.show()\n",
    "%matplotlib inline \n",
    "plt.imshow(x_test[0,:,:], interpolation='nearest')\n",
    "print( y_test[0] )\n",
    "plt.show()"
   ]
  },
  {
   "cell_type": "markdown",
   "metadata": {},
   "source": [
    "### Process the Data"
   ]
  },
  {
   "cell_type": "code",
   "execution_count": 50,
   "metadata": {},
   "outputs": [],
   "source": [
    "# Normalize the data \n",
    "x_train, x_test = x_train / 255.0, x_test / 255.0\n",
    "\n",
    "x_train = np.reshape(x_train, (len(x_train), 28, 28, 1))  # adapt this if using `channels_first` image data format\n",
    "x_test = np.reshape(x_test, (len(x_test), 28, 28, 1))  # adapt this if using `channels_first` image data format\n",
    "\n",
    "#y_train = to_categorical( y_train, num_classes = 10 )\n",
    "#y_test = to_categorical( y_test, num_classes = 10 )"
   ]
  },
  {
   "cell_type": "markdown",
   "metadata": {},
   "source": [
    "## Classification\n",
    "Mainly used to determine how good of a job the autoencoder does as reconstruction. "
   ]
  },
  {
   "cell_type": "markdown",
   "metadata": {},
   "source": [
    "### Build the Model"
   ]
  },
  {
   "cell_type": "code",
   "execution_count": 51,
   "metadata": {},
   "outputs": [],
   "source": [
    "# Define type of model\n",
    "classification = tf.keras.models.Sequential()\n",
    "\n",
    "# Convolutional layers\n",
    "classification.add(Conv2D(32, (3, 3), activation='relu', input_shape=(28, 28, 1)))\n",
    "classification.add(MaxPooling2D((2, 2)))\n",
    "classification.add(Conv2D(64, (3, 3), activation='relu'))\n",
    "classification.add(MaxPooling2D((2, 2)))\n",
    "classification.add(Conv2D(64, (3, 3), activation='relu'))\n",
    "\n",
    "# Standard feed forward, fully connected layers\n",
    "classification.add(Flatten())\n",
    "classification.add(Dense(64, activation='relu'))\n",
    "classification.add(Dense(10, activation='softmax'))"
   ]
  },
  {
   "cell_type": "markdown",
   "metadata": {},
   "source": [
    "#### Select Loss Function and Optimizer\n"
   ]
  },
  {
   "cell_type": "code",
   "execution_count": 55,
   "metadata": {},
   "outputs": [],
   "source": [
    "classification.compile(optimizer='adam',\n",
    "              loss='sparse_categorical_crossentropy',\n",
    "              metrics=['accuracy'])"
   ]
  },
  {
   "cell_type": "code",
   "execution_count": 56,
   "metadata": {},
   "outputs": [
    {
     "name": "stdout",
     "output_type": "stream",
     "text": [
      "(60000, 28, 28, 1)\n",
      "(60000,)\n",
      "5\n"
     ]
    }
   ],
   "source": [
    "print( x_train.shape )\n",
    "print( y_train.shape )\n",
    "print( y_train[0] )"
   ]
  },
  {
   "cell_type": "markdown",
   "metadata": {},
   "source": [
    "### Train Model"
   ]
  },
  {
   "cell_type": "code",
   "execution_count": 57,
   "metadata": {},
   "outputs": [
    {
     "name": "stdout",
     "output_type": "stream",
     "text": [
      "Train on 60000 samples\n",
      "Epoch 1/5\n",
      "60000/60000 [==============================] - 22s 373us/sample - loss: 0.1464 - accuracy: 0.9553\n",
      "Epoch 2/5\n",
      "60000/60000 [==============================] - 24s 403us/sample - loss: 0.0464 - accuracy: 0.9856\n",
      "Epoch 3/5\n",
      "60000/60000 [==============================] - 24s 403us/sample - loss: 0.0320 - accuracy: 0.9900\n",
      "Epoch 4/5\n",
      "60000/60000 [==============================] - 24s 393us/sample - loss: 0.0259 - accuracy: 0.9916\n",
      "Epoch 5/5\n",
      "60000/60000 [==============================] - 22s 374us/sample - loss: 0.0207 - accuracy: 0.9936\n"
     ]
    },
    {
     "data": {
      "text/plain": [
       "<tensorflow.python.keras.callbacks.History at 0x1a2d13c4a8>"
      ]
     },
     "execution_count": 57,
     "metadata": {},
     "output_type": "execute_result"
    }
   ],
   "source": [
    "classification.fit(x_train, y_train, epochs=5)"
   ]
  },
  {
   "cell_type": "markdown",
   "metadata": {},
   "source": [
    "### Test Model"
   ]
  },
  {
   "cell_type": "code",
   "execution_count": 59,
   "metadata": {},
   "outputs": [
    {
     "name": "stdout",
     "output_type": "stream",
     "text": [
      "10000/10000 [==============================] - 1s 103us/sample - loss: 0.0280 - accuracy: 0.9916\n"
     ]
    },
    {
     "data": {
      "text/plain": [
       "<matplotlib.axes._subplots.AxesSubplot at 0x1a2cf7e278>"
      ]
     },
     "execution_count": 59,
     "metadata": {},
     "output_type": "execute_result"
    },
    {
     "data": {
      "image/png": "[encoded data removed]",
      "text/plain": [
       "<Figure size 432x288 with 2 Axes>"
      ]
     },
     "metadata": {
      "needs_background": "light"
     },
     "output_type": "display_data"
    }
   ],
   "source": [
    "classification.evaluate(x_test, y_test)\n",
    "confusion = tf.math.confusion_matrix( tf.argmax(input=classification.predict(x_test), axis=1), y_test )\n",
    "sn.heatmap( confusion )"
   ]
  },
  {
   "cell_type": "markdown",
   "metadata": {},
   "source": [
    "## Autoencoder"
   ]
  },
  {
   "cell_type": "markdown",
   "metadata": {},
   "source": [
    "### Build the Model"
   ]
  },
  {
   "cell_type": "code",
   "execution_count": 60,
   "metadata": {},
   "outputs": [],
   "source": [
    "input_img = Input(shape=(28, 28, 1))  # adapt this if using `channels_first` image data format\n",
    "\n",
    "x = Conv2D(16, (3, 3), activation='relu', padding='same')(input_img)\n",
    "x = MaxPooling2D((2, 2), padding='same')(x)\n",
    "x = Conv2D(8, (3, 3), activation='relu', padding='same')(x)\n",
    "x = MaxPooling2D((2, 2), padding='same')(x)\n",
    "x = Conv2D(8, (3, 3), activation='relu', padding='same')(x)\n",
    "encoded = MaxPooling2D((2, 2), padding='same')(x)\n",
    "\n",
    "# at this point the representation is (4, 4, 8) i.e. 128-dimensional\n",
    "\n",
    "x = Conv2D(8, (3, 3), activation='relu', padding='same')(encoded)\n",
    "x = UpSampling2D((2, 2))(x)\n",
    "x = Conv2D(8, (3, 3), activation='relu', padding='same')(x)\n",
    "x = UpSampling2D((2, 2))(x)\n",
    "x = Conv2D(16, (3, 3), activation='relu')(x)\n",
    "x = UpSampling2D((2, 2))(x)\n",
    "decoded = Conv2D(1, (3, 3), activation='sigmoid', padding='same')(x)\n",
    "\n",
    "autoencoder = Model(input_img, decoded)"
   ]
  },
  {
   "cell_type": "markdown",
   "metadata": {},
   "source": [
    "#### Select Loss Function and Optimizer"
   ]
  },
  {
   "cell_type": "code",
   "execution_count": 61,
   "metadata": {},
   "outputs": [],
   "source": [
    "# loss function is usually either the mean-squared error or cross-entropy between the output and the input, known as the reconstruction loss, which penalizes the network for creating outputs different from the input\n",
    "autoencoder.compile(optimizer='adam',           # Optimizer favored over standard gradient decent\n",
    "                    loss='binary_crossentropy', # Standard loss for multiclass classification\n",
    "                    metrics=['mse'])       # Typical metric for classification performance"
   ]
  },
  {
   "cell_type": "markdown",
   "metadata": {},
   "source": [
    "### Train Model"
   ]
  },
  {
   "cell_type": "code",
   "execution_count": 62,
   "metadata": {},
   "outputs": [
    {
     "name": "stdout",
     "output_type": "stream",
     "text": [
      "Train on 60000 samples, validate on 10000 samples\n",
      "Epoch 1/10\n",
      "60000/60000 [==============================] - 36s 592us/sample - loss: 0.2065 - mse: 0.0482 - val_loss: 0.1406 - val_mse: 0.0267\n",
      "Epoch 2/10\n",
      "60000/60000 [==============================] - 36s 597us/sample - loss: 0.1321 - mse: 0.0237 - val_loss: 0.1242 - val_mse: 0.0210\n",
      "Epoch 3/10\n",
      "60000/60000 [==============================] - 36s 601us/sample - loss: 0.1223 - mse: 0.0203 - val_loss: 0.1181 - val_mse: 0.0189\n",
      "Epoch 4/10\n",
      "60000/60000 [==============================] - 36s 602us/sample - loss: 0.1174 - mse: 0.0186 - val_loss: 0.1141 - val_mse: 0.0176\n",
      "Epoch 5/10\n",
      "60000/60000 [==============================] - 37s 611us/sample - loss: 0.1140 - mse: 0.0175 - val_loss: 0.1114 - val_mse: 0.0166\n",
      "Epoch 6/10\n",
      "60000/60000 [==============================] - 37s 617us/sample - loss: 0.1115 - mse: 0.0166 - val_loss: 0.1097 - val_mse: 0.0161\n",
      "Epoch 7/10\n",
      "60000/60000 [==============================] - 37s 609us/sample - loss: 0.1096 - mse: 0.0160 - val_loss: 0.1076 - val_mse: 0.0153\n",
      "Epoch 8/10\n",
      "60000/60000 [==============================] - 38s 626us/sample - loss: 0.1080 - mse: 0.0154 - val_loss: 0.1058 - val_mse: 0.0148\n",
      "Epoch 9/10\n",
      "60000/60000 [==============================] - 37s 619us/sample - loss: 0.1066 - mse: 0.0150 - val_loss: 0.1048 - val_mse: 0.0145\n",
      "Epoch 10/10\n",
      "60000/60000 [==============================] - 38s 634us/sample - loss: 0.1054 - mse: 0.0146 - val_loss: 0.1039 - val_mse: 0.0142\n"
     ]
    },
    {
     "data": {
      "text/plain": [
       "<tensorflow.python.keras.callbacks.History at 0x1a2e1b7fd0>"
      ]
     },
     "execution_count": 62,
     "metadata": {},
     "output_type": "execute_result"
    }
   ],
   "source": [
    "autoencoder.fit(x_train, x_train, \n",
    "                epochs=10,\n",
    "                batch_size=128,      \n",
    "                shuffle=True,\n",
    "                validation_data=(x_test, x_test) )"
   ]
  },
  {
   "cell_type": "markdown",
   "metadata": {},
   "source": [
    "### Evaluate Model Performance on Test Set"
   ]
  },
  {
   "cell_type": "code",
   "execution_count": 63,
   "metadata": {},
   "outputs": [],
   "source": [
    "decoded_imgs = model.predict(x_test)"
   ]
  },
  {
   "cell_type": "code",
   "execution_count": 64,
   "metadata": {},
   "outputs": [
    {
     "data": {
      "image/png": "[encoded data removed]",
      "text/plain": [
       "<Figure size 432x288 with 20 Axes>"
      ]
     },
     "metadata": {
      "needs_background": "light"
     },
     "output_type": "display_data"
    }
   ],
   "source": [
    "for i in range( 10 ):\n",
    "    index = np.where( y_test == i )[0][0]\n",
    "    plt.subplot( 2, 10, i+1 )\n",
    "    plt.imshow(x_test[index].reshape(28, 28))\n",
    "    plt.gray()\n",
    "    plt.subplot( 2, 10, i+11 )\n",
    "    plt.imshow(decoded_imgs[index].reshape(28, 28))\n",
    "    plt.gray()\n"
   ]
  },
  {
   "cell_type": "markdown",
   "metadata": {},
   "source": [
    "### Evaluate Model Performance with Classifier"
   ]
  },
  {
   "cell_type": "code",
   "execution_count": 65,
   "metadata": {},
   "outputs": [
    {
     "name": "stdout",
     "output_type": "stream",
     "text": [
      "10000/10000 [==============================] - 1s 94us/sample - loss: 0.2439 - accuracy: 0.9270\n"
     ]
    },
    {
     "data": {
      "text/plain": [
       "<matplotlib.axes._subplots.AxesSubplot at 0x1a2f8aa550>"
      ]
     },
     "execution_count": 65,
     "metadata": {},
     "output_type": "execute_result"
    },
    {
     "data": {
      "image/png": "[encoded data removed]",
      "text/plain": [
       "<Figure size 432x288 with 2 Axes>"
      ]
     },
     "metadata": {
      "needs_background": "light"
     },
     "output_type": "display_data"
    }
   ],
   "source": [
    "classification.evaluate(decoded_imgs, y_test)\n",
    "confusion = tf.math.confusion_matrix( tf.argmax(input=classification.predict(decoded_imgs), axis=1), y_test )\n",
    "sn.heatmap( confusion )"
   ]
  },
  {
   "cell_type": "markdown",
   "metadata": {},
   "source": [
    "## Variational Autoencoder"
   ]
  },
  {
   "cell_type": "code",
   "execution_count": null,
   "metadata": {},
   "outputs": [],
   "source": []
  }
 ],
 "metadata": {
  "kernelspec": {
   "display_name": "Python 3",
   "language": "python",
   "name": "python3"
  },
  "language_info": {
   "codemirror_mode": {
    "name": "ipython",
    "version": 3
   },
   "file_extension": ".py",
   "mimetype": "text/x-python",
   "name": "python",
   "nbconvert_exporter": "python",
   "pygments_lexer": "ipython3",
   "version": "3.7.3"
  },
  "latex_envs": {
   "LaTeX_envs_menu_present": true,
   "autoclose": false,
   "autocomplete": true,
   "bibliofile": "biblio.bib",
   "cite_by": "apalike",
   "current_citInitial": 1,
   "eqLabelWithNumbers": true,
   "eqNumInitial": 1,
   "hotkeys": {
    "equation": "Ctrl-E",
    "itemize": "Ctrl-I"
   },
   "labels_anchors": false,
   "latex_user_defs": false,
   "report_style_numbering": false,
   "user_envs_cfg": false
  },
  "toc": {
   "base_numbering": 1,
   "nav_menu": {},
   "number_sections": true,
   "sideBar": true,
   "skip_h1_title": true,
   "title_cell": "Table of Contents",
   "title_sidebar": "Contents",
   "toc_cell": true,
   "toc_position": {},
   "toc_section_display": true,
   "toc_window_display": false
  }
 },
 "nbformat": 4,
 "nbformat_minor": 2
}
